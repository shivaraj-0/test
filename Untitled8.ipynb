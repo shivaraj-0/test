{
  "nbformat": 4,
  "nbformat_minor": 0,
  "metadata": {
    "colab": {
      "provenance": []
    },
    "kernelspec": {
      "name": "python3",
      "display_name": "Python 3"
    },
    "language_info": {
      "name": "python"
    }
  },
  "cells": [
    {
      "cell_type": "code",
      "execution_count": 5,
      "metadata": {
        "colab": {
          "base_uri": "https://localhost:8080/"
        },
        "id": "epo_WKz3wkia",
        "outputId": "f1789679-18cc-4735-f6aa-f53282b77882"
      },
      "outputs": [
        {
          "output_type": "stream",
          "name": "stdout",
          "text": [
            "Collecting emot\n",
            "  Downloading emot-3.1-py3-none-any.whl.metadata (396 bytes)\n",
            "Downloading emot-3.1-py3-none-any.whl (61 kB)\n",
            "\u001b[?25l   \u001b[90m━━━━━━━━━━━━━━━━━━━━━━━━━━━━━━━━━━━━━━━━\u001b[0m \u001b[32m0.0/61.5 kB\u001b[0m \u001b[31m?\u001b[0m eta \u001b[36m-:--:--\u001b[0m\r\u001b[2K   \u001b[90m━━━━━━━━━━━━━━━━━━━━━━━━━━━━━━━━━━━━━━━━\u001b[0m \u001b[32m61.5/61.5 kB\u001b[0m \u001b[31m6.3 MB/s\u001b[0m eta \u001b[36m0:00:00\u001b[0m\n",
            "\u001b[?25hInstalling collected packages: emot\n",
            "Successfully installed emot-3.1\n"
          ]
        }
      ],
      "source": [
        "!pip install emot"
      ]
    },
    {
      "cell_type": "code",
      "source": [
        "text1 = \" what are you saying😂 .I am the boss😎, and why are you so😒 \""
      ],
      "metadata": {
        "id": "ZhkH34Zlwrg2"
      },
      "execution_count": 6,
      "outputs": []
    },
    {
      "cell_type": "code",
      "source": [
        "import re\n",
        "from emot.emo_unicode import UNICODE_EMOJI\n",
        "from emot.emo_unicode import EMOTICONS_EMO"
      ],
      "metadata": {
        "id": "LywbrjzhxKMC"
      },
      "execution_count": 8,
      "outputs": []
    },
    {
      "cell_type": "code",
      "source": [
        "def converting_emojis(text):\n",
        "  for emot in UNICODE_EMOJI:\n",
        "    text = text.replace(emot,\"_\".join(UNICODE_EMOJI[emot].replace(\",\",\"\").replace(\":\",\"\").split()))\n",
        "  return text\n",
        "converting_emojis(text1)"
      ],
      "metadata": {
        "colab": {
          "base_uri": "https://localhost:8080/",
          "height": 36
        },
        "id": "Cj6TAXfcyN2d",
        "outputId": "94572dc5-e205-4bbe-c9c3-2d1575d4bbe0"
      },
      "execution_count": 12,
      "outputs": [
        {
          "output_type": "execute_result",
          "data": {
            "text/plain": [
              "' what are you sayingface_with_tears_of_joy .I am the bosssmiling_face_with_sunglasses, and why are you sounamused_face '"
            ],
            "application/vnd.google.colaboratory.intrinsic+json": {
              "type": "string"
            }
          },
          "metadata": {},
          "execution_count": 12
        }
      ]
    },
    {
      "cell_type": "code",
      "source": [
        "def emoji_removal(string):\n",
        "  emoji_unicodes = re.compile(\"[\"\n",
        "  u\"\\U0001F600_\\U0001F64F\"\n",
        "  u\"\\U0001F300_\\U0001F5FF\"\n",
        "  u\"\\U0001F680_\\U0001F6FF\"\n",
        "  u\"\\U0001F1E0_\\U0001F1FF\"\n",
        "  u\"\\U00002500_\\U00002BEF\"\n",
        "  u\"\\U00002702_\\U000127B0\"\n",
        "  u\"\\U000024C2_\\U0001F251\"\n",
        "  u\"\\U0001F926_\\U0001F937\"\n",
        "  u\"\\U00010000_\\U0010FFFF\")"
      ],
      "metadata": {
        "id": "EE6UhM6Py7xz"
      },
      "execution_count": null,
      "outputs": []
    }
  ]
}